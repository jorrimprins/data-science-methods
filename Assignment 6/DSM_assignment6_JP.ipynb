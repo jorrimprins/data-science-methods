{
 "cells": [
  {
   "cell_type": "markdown",
   "metadata": {},
   "source": [
    "# Assignment 6\n",
    "\n",
    "**Deadline**:  16/10/2019, 9.59am\n",
    "\n",
    "**Names and student numbers:**\n",
    "1. name (student number)\n",
    "2. ...\n",
    "3. ...\n",
    "\n",
    "**Declaration of Originality**\n",
    "\n",
    "We whose names are given under 1., 2. and 3. above declare that:\n",
    "1. These solutions are solely our own work.\n",
    "2. We have not made (part of) these solutions available to any other student.\n",
    "\n",
    "## Instructions for completing and submitting the assignment\n",
    "Please pay attention to the following instructions:\n",
    "1. Please follow carefully the steps outlined in the assignment. If you cannot solve an exercise and this hinders continuing with subsequent exercises, try to find a way to work around it and give a clear explanation for the solution you have chosen.\n",
    "2. Submit your work in the form of a Jupyter notebook via Canvas, before the deadline. Your notebook should not give errors when executed with `Run All`.\n",
    "4. You are allowed to work on the assignment in groups of 2 or 3 students and to submit together. Before you submit, you and your team members have to register as an **Assignment group** on Canvas. Only a single member of each group has to submit the notebook. Please do **NOT** submit the same notebook multiple times!\n",
    "5. Please write your names also inside this markdown cell, under **Names and student numbers**."
   ]
  },
  {
   "cell_type": "markdown",
   "metadata": {},
   "source": [
    "**Exercise:** import the relevant libraries."
   ]
  },
  {
   "cell_type": "code",
   "execution_count": 4,
   "metadata": {},
   "outputs": [],
   "source": [
    "import os\n",
    "import numpy as np\n",
    "import pandas as pd\n",
    "import scipy\n",
    "from scipy import stats\n",
    "import matplotlib.pyplot as plt\n",
    "\n",
    "from mpl_toolkits.mplot3d import Axes3D\n",
    "\n",
    "from sklearn.model_selection import KFold\n",
    "from sklearn.preprocessing import PolynomialFeatures\n",
    "from sklearn.preprocessing import StandardScaler"
   ]
  },
  {
   "cell_type": "markdown",
   "metadata": {},
   "source": [
    "# Instructions\n",
    "In this assignment you have to develop a classification model. You will be given a training set of 528 datapoints. Using the techniques presented in this course, we ask you to come up with a model that has the best generalization performance. This performance will be assessed on a test dataset of 462 datapoints, which is not available to you. The assignment is also a competition: your mark depends (partly) on how well your model does compared to those of other groups and the three groups with the best performing model will be highlighted.\n",
    "\n",
    "### The data\n",
    "The training data can be found in the file `DSM_assignment6_training_data.csv` on Canvas. It consists of a two-dimensional comma-separated matrix of 528 rows and 11 columns. Each row is a datapoint, consisting of 10 input variables and 1 target variable. The target variable, which is an integer from the set {0,1,...,10} representing the class, is the last column of the matrix.\n",
    "\n",
    "### Submitting your work\n",
    "Your work in this Jupyter notebook consists of two parts. **Part 1** is used to train, create and evaluate your best performing model. In the first cell, you have to train your best performing model on the training data. The code to load the training data is already given. Furthermore, in that same cell you have to create a function called `best_model`. This function has a single input argument, which is a 2-dimensional NumPy array with an arbitrary number of rows and 10 columns (e.g. the input features `X` of the training data). The function should return a 1-dimensional array with the predictions of your best model for the datapoints in the input argument, where each prediction should be an integer from the set {0,1,...,10}. Hence, the number of elements in this 1-dimensional array should be equal to the number of rows of the 2-dimensional array used as input argument.\n",
    "\n",
    "In the second cell, we are using a testset called `DSM_assignment6_test_data.csv` of 462 datapoints to assess the generalization performance of your function `best_model`. Of course, the testset is only available to the teachers. The code in the second cell may not be changed!!! It will be used by the teachers to compute the generalization performance of your best model. On Canvas, you can find a file called `DSM_assignment6_FAKE_test_data.csv`. This is a 2-dimensional array of completely random numbers (fake data), having the same dimensions as the dataset in `DSM_assignment6_test_data.csv`. If you put this file in the same folder as this Jupyter notebook, you can test whether your function `best_model` is defined correctly by checking if the second cell runs without errors. Since the numbers in `DSM_assignment6_FAKE_test_data.csv` are fake data, they **cannot** be used to estimate the performance of your `best_model`. **AFTER TRAINING AND CREATING YOUR BEST MODEL IN THE FIRST CELL, THE SECOND CELL SHOULD RUN WITHOUT ERRORS!!!** If this is not the case, your work will **not** be marked. \n",
    "\n",
    "In **Part 2** of the notebook, you will present your analysis of the classification problem and the steps you have taken to arrive at your best model. Here, you have to explain and perform all the methods that you have used to identify your best model. As in all exercises, please make sure all steps are well motivated and presented in a clear and structured manner. We recommend using visualization methods (e.g., plots with matplotlib), if applicable, to clarify your work.\n",
    "\n",
    "### Example\n",
    "As an example, in this notebook we have defined a `best_model` that randomly assigns a class to every new observation. As expected, the obtained accuracy of this primitive model is around $1/11=0.0909$, since there are 11 classes.\n",
    "\n",
    "### Allowed methods\n",
    "Any of the methods discussed in the course may be used. You are also free to use generalizations of these methods. If you doubt whether your method is allowed, please consult with the teachers. \n",
    "\n",
    "Furthermore, you are allowed to use libraries like scikit-learn, but you are not required to use them.\n",
    "\n",
    "### The competition\n",
    "The generalization performance of your best model is assessed by the **accuracy**, which we define as the proportion of correctly predicted classes, on a secret test dataset consisting of 462 datapoints. You may assume that all datapoints in the training and test set are i.i.d. The scores will be ranked and the top-three groups and their scores will be announced.\n",
    "\n",
    "### The marking\n",
    "As can be seen in the rubric on Canvas, 20% of your mark will depend on the generalization performance of your best model, compared to the best models of your peers."
   ]
  },
  {
   "cell_type": "markdown",
   "metadata": {},
   "source": [
    "# Part 1: training, creating and evaluating your best model"
   ]
  },
  {
   "cell_type": "code",
   "execution_count": 7,
   "metadata": {},
   "outputs": [],
   "source": [
    "#####################################################\n",
    "# USE THIS CELL TO TRAIN AND CREATE YOUR BEST MODEL # \n",
    "#####################################################\n",
    "\n",
    "# loading the training data\n",
    "training_data = np.genfromtxt(\"DSM_assignment6_training_data.csv\", delimiter=',')\n",
    "X = training_data[:,:-1]\n",
    "y = training_data[:,-1].astype(int)\n",
    "K_classes = np.unique(y).shape[0]\n",
    "X = StandardScaler().fit_transform(X)\n",
    "\n",
    "def best_model(X_new):\n",
    "    \n",
    "    N_new = X_new.shape[0]\n",
    "    \n",
    "    return np.random.randint(11, size=N_new)"
   ]
  },
  {
   "cell_type": "code",
   "execution_count": 45,
   "metadata": {
    "scrolled": true
   },
   "outputs": [],
   "source": [
    "# Correlation coefficient matrix of X\n",
    "#pd.DataFrame(np.corrcoef(X, rowvar = False))"
   ]
  },
  {
   "cell_type": "code",
   "execution_count": 46,
   "metadata": {},
   "outputs": [
    {
     "data": {
      "text/plain": [
       "0.9488636363636364"
      ]
     },
     "execution_count": 46,
     "metadata": {},
     "output_type": "execute_result"
    }
   ],
   "source": [
    "def kNN(X_new, X, y, k):\n",
    "    \n",
    "    predictions = np.array([], dtype=int)\n",
    "    \n",
    "    for x in X_new:\n",
    "        \n",
    "        distances = np.linalg.norm(X-x, axis=1)\n",
    "        indices = np.argpartition(distances, k-1)[:k]\n",
    "        \n",
    "        predictions = np.append(predictions, np.argmax(np.bincount(y[indices])))\n",
    "    \n",
    "    return predictions\n",
    "\n",
    "def kNN_CV_accuracy(X, y, k):\n",
    "    \n",
    "    N = len(X)\n",
    "    \n",
    "    errors = np.array([y[i] == kNN([X[i]], np.delete(X, i, axis=0), np.delete(y, i), k) for i in range(N)])\n",
    "    \n",
    "    return np.mean(errors)\n",
    "\n",
    "kNN_CV_accuracy(X, y, 5)"
   ]
  },
  {
   "cell_type": "code",
   "execution_count": 47,
   "metadata": {},
   "outputs": [
    {
     "data": {
      "image/png": "[encoded data removed]",
      "text/plain": [
       "<Figure size 720x432 with 1 Axes>"
      ]
     },
     "metadata": {
      "needs_background": "light"
     },
     "output_type": "display_data"
    }
   ],
   "source": [
    "def accuracy_lists(X,y,k):\n",
    "\n",
    "    acc_list = np.array([])\n",
    "    k_list = np.arange(1,k+1)\n",
    "\n",
    "    for i in range(1,k+1):\n",
    "        acc_list = np.append(acc_list, kNN_CV_accuracy(X,y,i))\n",
    "    \n",
    "    return k_list, acc_list\n",
    "\n",
    "fig = plt.figure(figsize=(10, 6))\n",
    "ax1 = fig.add_subplot(1,1,1)\n",
    "ax1.plot(accuracy_lists(X,y,40)[0], accuracy_lists(X,y,40)[1], '-o', color='red')\n",
    "\n",
    "ax1.set_xlabel('K - Neighbours')\n",
    "\n",
    "ax1.set_ylabel('Accuracy');"
   ]
  },
  {
   "cell_type": "code",
   "execution_count": 75,
   "metadata": {},
   "outputs": [],
   "source": [
    "def plot_classification(X, y, K, dir1, dir2, G=None, title=None):\n",
    "    \n",
    "    fig = plt.figure(figsize=(8,8))\n",
    "    ax = fig.add_subplot(1,1,1)\n",
    "    \n",
    "    if title:\n",
    "        ax.set_title(title)\n",
    "    \n",
    "    colors = ['k','tab:blue','tab:orange','tab:green','tab:red','tab:purple','tab:brown','tab:pink','tab:gray','tab:olive','tab:cyan']\n",
    "    \n",
    "    if np.isscalar(dir1):\n",
    "        dir_temp = np.zeros(X.shape[1])\n",
    "        dir_temp[dir1] = 1.\n",
    "        dir1 = dir_temp\n",
    "        \n",
    "    if np.isscalar(dir2):\n",
    "        dir_temp = np.zeros(X.shape[1])\n",
    "        dir_temp[dir2] = 1.\n",
    "        dir2 = dir_temp\n",
    "    \n",
    "    dir1 = dir1/np.linalg.norm(dir1)\n",
    "    dir2 = dir2/np.linalg.norm(dir2)\n",
    "    \n",
    "    # Plotting the observations in the data set\n",
    "    for k in range(K):\n",
    "        boolean_index = y==k\n",
    "        ax.scatter(np.dot(X[boolean_index], dir1), np.dot(X[boolean_index],dir2), \n",
    "                   c=colors[k])    \n",
    "    \n",
    "    # Creating classification regions\n",
    "    if G:\n",
    "        points = 100\n",
    "        xmin, xmax = ax.get_xlim()\n",
    "        ymin, ymax = ax.get_ylim()\n",
    "        x_range = np.linspace(xmin, xmax, points)\n",
    "        y_range = np.linspace(ymin, ymax, points)\n",
    "        xx, yy = np.meshgrid(x_range, y_range)\n",
    "    \n",
    "        G_grid = np.array(list(map(G, np.outer(xx,dir1) + np.outer(yy,dir2)))).reshape(points,points)\n",
    "    \n",
    "        ax.contourf(x_range, y_range, G_grid, 2, alpha=.2, colors=colors)\n",
    "    \n",
    "    ax.set_xlabel(\"Direction 1: {}\".format(dir1))\n",
    "    ax.set_ylabel(\"Direction 2: {}\".format(dir2))\n",
    "\n",
    "    ax.legend();"
   ]
  },
  {
   "cell_type": "code",
   "execution_count": 48,
   "metadata": {},
   "outputs": [
    {
     "name": "stdout",
     "output_type": "stream",
     "text": [
      "True\n",
      "True\n",
      "True\n",
      "U:  (528, 10) \tD:  (10,) \tV:  (10, 10)\n"
     ]
    },
    {
     "name": "stderr",
     "output_type": "stream",
     "text": [
      "//anaconda3/lib/python3.7/site-packages/ipykernel_launcher.py:23: MatplotlibDeprecationWarning: Adding an axes using the same arguments as a previous axes currently reuses the earlier instance.  In a future version, a new instance will always be created and returned.  Meanwhile, this warning can be suppressed, and the future behavior ensured, by passing a unique label to each axes instance.\n"
     ]
    }
   ],
   "source": [
    "#######\n",
    "# PCA #\n",
    "#######\n",
    "\n",
    "U, D, VT = np.linalg.svd(X, full_matrices=False)\n",
    "\n",
    "Z = np.empty(X.shape)\n",
    "Z = U@np.diag(D)\n",
    "\n",
    "print(np.allclose(X, (U*D[None, :])@VT))\n",
    "print(np.allclose(np.identity(U.shape[1]),U.T@U))\n",
    "print(np.allclose(np.identity(VT.shape[1]),VT.T@VT))\n",
    "\n",
    "print(\"U: \",U.shape, \"\\tD: \", D.shape, \"\\tV: \",  VT.shape)\n",
    "\n",
    "# Plotting the results\n",
    "var_explained = D/sum(D)\n",
    "var_explained_sum = np.cumsum(var_explained)\n",
    "\n",
    "x_range = list(range(1,len(var_explained_sum)+1))\n",
    "\n",
    "#fig2 = plt.figure(2, figsize=(8,6))\n",
    "ax1 = fig2.add_subplot(1,1,1)\n",
    "\n",
    "ax1.bar(x_range, var_explained_sum)\n",
    "ax1.set_xlim([0,11])\n",
    "ax1.set_xlabel('Singular values')\n",
    "ax1.set_xticks(np.arange(1,11,step=1));\n",
    "\n",
    "ax1.set_ylabel('Cumulative Variance');"
   ]
  },
  {
   "cell_type": "code",
   "execution_count": 49,
   "metadata": {},
   "outputs": [
    {
     "name": "stdout",
     "output_type": "stream",
     "text": [
      "0.9753787878787878\n",
      "0.9753787878787878\n",
      "0.9621212121212122\n"
     ]
    }
   ],
   "source": [
    "print(kNN_CV_accuracy(X,y,3))\n",
    "print(kNN_CV_accuracy(Z,y,3))\n",
    "print(kNN_CV_accuracy(Z[:,:5],y,3))"
   ]
  },
  {
   "cell_type": "code",
   "execution_count": 50,
   "metadata": {},
   "outputs": [
    {
     "data": {
      "text/plain": [
       "(528, 9)"
      ]
     },
     "execution_count": 50,
     "metadata": {},
     "output_type": "execute_result"
    }
   ],
   "source": [
    "### Different matrices to train the models with ###\n",
    "\n",
    "Z = U@np.diag(D)\n",
    "Z_reduced = Z[:,:3]\n",
    "\n",
    "def polynomial_features(X, M):\n",
    "    return np.concatenate(tuple([X**(n+1) for n in range(M+1)]), axis=1)\n",
    "\n",
    "Z_reduced_poly = polynomial_features(Z_reduced, 2)\n",
    "Z_reduced_poly.shape"
   ]
  },
  {
   "cell_type": "code",
   "execution_count": 51,
   "metadata": {},
   "outputs": [],
   "source": [
    "#### Function to calculate accuracy of different models ###\n",
    "\n",
    "def accuracy(training_method, X, y, K_classes, K_cv=10, runs=1):\n",
    "    \n",
    "    N = len(y)\n",
    "    \n",
    "    misclassifications = np.array([])\n",
    "    for run in range(runs):\n",
    "        \n",
    "        cv_folds = KFold(n_splits=K_cv, shuffle=True) # Randomly creating new folds for each run\n",
    "        \n",
    "        for indices_train, indices_test in cv_folds.split(X):\n",
    "            \n",
    "            X_train = X[indices_train]\n",
    "            y_train = y[indices_train]\n",
    "            X_test = X[indices_test]\n",
    "            y_test = y[indices_test]\n",
    "\n",
    "            G_fitted = training_method(X_train, y_train, K_classes) # Fitting model in training data\n",
    "            y_fitted_test = G_fitted(X_test) # Using fitted model to predict on test data\n",
    "\n",
    "            no_misclassifications = np.sum(y_fitted_test != y_test) # Counting number of prediction errors test data\n",
    "            misclassifications = np.append(misclassifications, no_misclassifications)\n",
    "    \n",
    "    accuracy = 1 - np.sum(misclassifications)/(N*runs)\n",
    "    std_error = np.std(misclassifications, ddof=1)*np.sqrt(K_cv/runs)/N\n",
    "    \n",
    "    return accuracy, std_error"
   ]
  },
  {
   "cell_type": "code",
   "execution_count": 35,
   "metadata": {},
   "outputs": [],
   "source": [
    "###########\n",
    "### LDA ###\n",
    "###########\n",
    "\n",
    "# Use only y to detect ratio of a class, pi\n",
    "def get_prior_probs(y):\n",
    "    \n",
    "    N = len(y)\n",
    "    freqs = np.unique(y, return_counts = True)[1]\n",
    "    \n",
    "    return freqs/N\n",
    "\n",
    "# Find mu as matrix with rows K and columns 4 with mean of features per class \n",
    "def get_centroids(X, y, K_classes):\n",
    "    \n",
    "    centroids = np.zeros((K_classes, X.shape[1]))\n",
    "    \n",
    "    for k in range(K_classes):  \n",
    "        centroids[k] = np.mean(X[y==k], axis = 0)\n",
    "    \n",
    "    return centroids\n",
    "\n",
    "# Find the 4 by 4 covariance matrix which is the same per class\n",
    "def get_within_class_covariance_matrix(X, y, K_classes, centroids):\n",
    "    \n",
    "    N = len(y)\n",
    "    X_diff = X - np.array([centroids[k] for k in y])\n",
    "    \n",
    "    return (X_diff.T @ X_diff)/(N-K_classes)\n",
    "\n",
    "centroids = get_centroids(X, y, K_classes)\n",
    "\n",
    "# Obtain the delta\n",
    "def train_lda_classification(X, y, K_classes):\n",
    "    \n",
    "    probs = get_prior_probs(y)\n",
    "    centroids = get_centroids(X, y, K_classes)\n",
    "    cov = get_within_class_covariance_matrix(X, y, K_classes, centroids)\n",
    "    inv_cov = np.linalg.inv(cov)\n",
    "    \n",
    "    def G(X_new):\n",
    "        \n",
    "        deltas = np.zeros((X_new.shape[0], K_classes))\n",
    "        for k in range(K_classes):\n",
    "            deltas[:,k] = (X_new - centroids[k]/2) @ inv_cov @ centroids[k] + np.log(probs[k])\n",
    "        \n",
    "        return np.argmax(deltas, axis=1)\n",
    "    \n",
    "    return G\n",
    "\n",
    "G_fitted = train_lda_classification(X, y, K_classes)\n",
    "#G_fitted(X)\n",
    "accuracy(train_lda_classification, X, y , K_classes, K_cv=10, runs=1)"
   ]
  },
  {
   "cell_type": "code",
   "execution_count": 16,
   "metadata": {},
   "outputs": [
    {
     "data": {
      "text/plain": [
       "(0.6117424242424243, 0.029238727719468206)"
      ]
     },
     "execution_count": 16,
     "metadata": {},
     "output_type": "execute_result"
    }
   ],
   "source": []
  },
  {
   "cell_type": "code",
   "execution_count": null,
   "metadata": {
    "scrolled": true
   },
   "outputs": [
    {
     "name": "stdout",
     "output_type": "stream",
     "text": [
      "Explained variance per eigenvalue/linear discriminant:\n",
      "eigenvalue 1: 92.82%\n",
      "eigenvalue 2: 4.82%\n",
      "eigenvalue 3: 1.42%\n",
      "eigenvalue 4: 0.50%\n",
      "eigenvalue 5: 0.22%\n",
      "eigenvalue 6: 0.12%\n",
      "eigenvalue 7: 0.08%\n",
      "eigenvalue 8: 0.01%\n",
      "eigenvalue 9: 0.00%\n",
      "eigenvalue 10: 0.00%\n",
      "accuracy taking into account the first 1 linear discriminants: (0.2526515151515152, 0.006099579121463848)\n",
      "accuracy taking into account the first 2 linear discriminants: (0.5916666666666667, 0.0062746762682238276)\n",
      "accuracy taking into account the first 3 linear discriminants: (0.6350378787878788, 0.006702063408143739)\n",
      "accuracy taking into account the first 4 linear discriminants: (0.6424242424242423, 0.0067420846101904275)\n",
      "accuracy taking into account the first 5 linear discriminants: (0.6488636363636364, 0.0064741853479721185)\n",
      "accuracy taking into account the first 6 linear discriminants: (0.6539772727272728, 0.005696815987854695)\n",
      "accuracy taking into account the first 7 linear discriminants: (0.6535984848484848, 0.005899531315566276)\n",
      "accuracy taking into account the first 8 linear discriminants: (0.6388257575757577, 0.005990704699542214)\n",
      "accuracy taking into account the first 9 linear discriminants: (0.6325757575757576, 0.00681541793451421)\n",
      "accuracy taking into account the first 10 linear discriminants: (0.6225378787878788, 0.0063432191650934396)\n",
      "accuracy taking into account the first 1 lin comb and 1 pol features: (0.2367424242424242, 0.020369022480936465)\n",
      "accuracy taking into account the first 1 lin comb and 2 pol features: (0.2821969696969697, 0.017277692150762636)\n",
      "accuracy taking into account the first 1 lin comb and 3 pol features: (0.29734848484848486, 0.01944813358680475)\n",
      "accuracy taking into account the first 1 lin comb and 4 pol features: (0.2859848484848485, 0.011310904587859164)\n",
      "accuracy taking into account the first 1 lin comb and 5 pol features: (0.30113636363636365, 0.03345959595959596)\n",
      "accuracy taking into account the first 1 lin comb and 6 pol features: (0.30113636363636365, 0.019242109411777997)\n",
      "accuracy taking into account the first 1 lin comb and 7 pol features: (0.2935606060606061, 0.021137208387352537)\n",
      "accuracy taking into account the first 1 lin comb and 8 pol features: (0.2954545454545454, 0.018897259529161322)\n",
      "accuracy taking into account the first 1 lin comb and 9 pol features: (0.2992424242424242, 0.021869328378394916)\n",
      "accuracy taking into account the first 1 lin comb and 10 pol features: (0.10037878787878785, 0.011025409846321327)\n",
      "accuracy taking into account the first 2 lin comb and 1 pol features: (0.5946969696969697, 0.013888888888888888)\n",
      "accuracy taking into account the first 2 lin comb and 2 pol features: (0.5757575757575757, 0.015515411272025896)\n",
      "accuracy taking into account the first 2 lin comb and 3 pol features: (0.6022727272727273, 0.028233181534088256)\n",
      "accuracy taking into account the first 2 lin comb and 4 pol features: (0.5984848484848485, 0.016892788081135923)\n",
      "accuracy taking into account the first 2 lin comb and 5 pol features: (0.6193181818181819, 0.018394952379208924)\n",
      "accuracy taking into account the first 2 lin comb and 6 pol features: (0.6231060606060606, 0.01839495237920892)\n",
      "accuracy taking into account the first 2 lin comb and 7 pol features: (0.6420454545454546, 0.022665811958353845)\n",
      "accuracy taking into account the first 2 lin comb and 8 pol features: (0.6458333333333333, 0.023460737596037937)\n",
      "accuracy taking into account the first 2 lin comb and 9 pol features: (0.2367424242424242, 0.045703757064995625)\n",
      "accuracy taking into account the first 2 lin comb and 10 pol features: (0.09469696969696972, 0.012562972690740151)\n",
      "accuracy taking into account the first 3 lin comb and 1 pol features: (0.634469696969697, 0.018308080808080808)\n",
      "accuracy taking into account the first 3 lin comb and 2 pol features: (0.6420454545454546, 0.01795639223905037)\n",
      "accuracy taking into account the first 3 lin comb and 3 pol features: (0.6761363636363636, 0.021585001259190353)\n",
      "accuracy taking into account the first 3 lin comb and 4 pol features: (0.7234848484848485, 0.014724625997084094)\n",
      "accuracy taking into account the first 3 lin comb and 5 pol features: (0.7443181818181819, 0.013613547129323122)\n",
      "accuracy taking into account the first 3 lin comb and 6 pol features: (0.740530303030303, 0.02462121212121212)\n",
      "accuracy taking into account the first 3 lin comb and 7 pol features: (0.7443181818181819, 0.018780902500812522)\n",
      "accuracy taking into account the first 3 lin comb and 8 pol features: (0.10795454545454541, 0.02335858585858586)\n",
      "accuracy taking into account the first 3 lin comb and 9 pol features: (0.10227272727272729, 0.011007320564496652)\n",
      "accuracy taking into account the first 3 lin comb and 10 pol features: (0.10606060606060608, 0.012876311903012085)\n",
      "accuracy taking into account the first 4 lin comb and 1 pol features: (0.6439393939393939, 0.023756171366447955)\n",
      "accuracy taking into account the first 4 lin comb and 2 pol features: (0.6666666666666667, 0.021905746935476606)\n",
      "accuracy taking into account the first 4 lin comb and 3 pol features: (0.7329545454545454, 0.026552703086885218)\n",
      "accuracy taking into account the first 4 lin comb and 4 pol features: (0.7708333333333334, 0.012451441239467186)\n",
      "accuracy taking into account the first 4 lin comb and 5 pol features: (0.8143939393939394, 0.018253576129799193)\n",
      "accuracy taking into account the first 4 lin comb and 6 pol features: (0.7992424242424243, 0.014451418108913634)\n",
      "accuracy taking into account the first 4 lin comb and 7 pol features: (0.37689393939393945, 0.04332206682903476)\n",
      "accuracy taking into account the first 4 lin comb and 8 pol features: (0.125, 0.007885098482826262)\n",
      "accuracy taking into account the first 4 lin comb and 9 pol features: (0.10795454545454541, 0.010732323232323232)\n",
      "accuracy taking into account the first 4 lin comb and 10 pol features: (0.08333333333333337, 0.017219926385083153)\n",
      "accuracy taking into account the first 5 lin comb and 1 pol features: (0.6590909090909092, 0.021686318228936453)\n",
      "accuracy taking into account the first 5 lin comb and 2 pol features: (0.7348484848484849, 0.016702975448640092)\n",
      "accuracy taking into account the first 5 lin comb and 3 pol features: (0.7784090909090909, 0.02017240569276573)\n",
      "accuracy taking into account the first 5 lin comb and 4 pol features: (0.865530303030303, 0.015321541792312626)\n",
      "accuracy taking into account the first 5 lin comb and 5 pol features: (0.8598484848484849, 0.018981434821177916)\n",
      "accuracy taking into account the first 5 lin comb and 6 pol features: (0.14015151515151514, 0.017219926385083153)\n",
      "accuracy taking into account the first 5 lin comb and 7 pol features: (0.09659090909090906, 0.008493449524667747)\n",
      "accuracy taking into account the first 5 lin comb and 8 pol features: (0.08712121212121215, 0.014615955685341195)\n",
      "accuracy taking into account the first 5 lin comb and 9 pol features: (0.09469696969696972, 0.010101010101010102)\n",
      "accuracy taking into account the first 5 lin comb and 10 pol features: (0.08143939393939392, 0.012704931690339713)\n",
      "accuracy taking into account the first 6 lin comb and 1 pol features: (0.6590909090909092, 0.016702975448640092)\n",
      "accuracy taking into account the first 6 lin comb and 2 pol features: (0.7272727272727273, 0.016750630254320203)\n",
      "accuracy taking into account the first 6 lin comb and 3 pol features: (0.8352272727272727, 0.016474732766035217)\n",
      "accuracy taking into account the first 6 lin comb and 4 pol features: (0.9185606060606061, 0.011657945273118302)\n",
      "accuracy taking into account the first 6 lin comb and 5 pol features: (0.32765151515151514, 0.028549038016654076)\n",
      "accuracy taking into account the first 6 lin comb and 6 pol features: (0.09280303030303028, 0.009126788064899596)\n",
      "accuracy taking into account the first 6 lin comb and 7 pol features: (0.06818181818181823, 0.016414141414141416)\n",
      "accuracy taking into account the first 6 lin comb and 8 pol features: (0.09090909090909094, 0.012626262626262628)\n",
      "accuracy taking into account the first 6 lin comb and 9 pol features: (0.05681818181818177, 0.013773626407368324)\n"
     ]
    }
   ],
   "source": [
    "########################\n",
    "### Reduced Rank LDA ###\n",
    "########################\n",
    "\n",
    "def get_between_class_covariance(centroids, K_classes):\n",
    "    return np.dot(centroids.T, centroids)/(K_classes - 1)\n",
    "\n",
    "def get_linear_discriminants(X, y, K_classes):\n",
    "    \n",
    "    centroids = get_centroids(X, y, K_classes)\n",
    "\n",
    "    Sigma = get_within_class_covariance_matrix(X, y, K_classes, centroids)\n",
    "\n",
    "    B = get_between_class_covariance(centroids, K_classes)\n",
    "    \n",
    "    eig_vals, eig_vecs = np.linalg.eig(np.dot(np.linalg.inv(Sigma), B))\n",
    "    \n",
    "    return eig_vals.real, eig_vecs.real\n",
    "\n",
    "eig_vals, eig_vecs = get_linear_discriminants(X, y, K_classes)\n",
    "\n",
    "print(\"Explained variance per eigenvalue/linear discriminant:\")\n",
    "for i, eig_val in enumerate(eig_vals):\n",
    "    print(\"eigenvalue {0}: {1:.2%}\".format(i+1, np.abs(eig_val/sum(eig_vals))))\n",
    "    \n",
    "# Projecting onto the linear discriminant (directions)\n",
    "Z = np.dot(X, eig_vecs)\n",
    "\n",
    "# Computing accuracies\n",
    "for i in range(len(eig_vals)):\n",
    "    \n",
    "    Z_reduced = Z[:,:i+1]\n",
    "    \n",
    "    acc = accuracy(train_lda_classification, Z_reduced, y, K_classes, K_cv=10, runs=10)\n",
    "    print(\"accuracy taking into account the first {0} linear discriminants: {1}\".format(i+1, acc))\n",
    "\n",
    "for i in range(6):\n",
    "    Z_reduced = Z[:,:i+1]\n",
    "    for j in range(10):\n",
    "        poly = PolynomialFeatures(j+1, include_bias=False)\n",
    "        Z_polynomial = poly.fit_transform(Z_reduced)\n",
    "    \n",
    "        acc = accuracy(train_lda_classification, Z_polynomial, y , K_classes, K_cv=10, runs=1)\n",
    "        print(\"accuracy taking into account the first {0} lin comb and {1} pol features: {2}\".format(i+1, j+1, acc))\n",
    "\n",
    "        \n",
    "# Plotting\n",
    "#G_fitted =  train_lda_classification(Z_polynomial, y, K_classes)\n",
    "#plot_classification(Z_polynomial, y, K_classes, 0, 1, G=G_fitted)\n",
    "\n",
    "\n",
    "#Z_reduced_poly = polynomial_features(Z_reduced, 2)\n",
    "#accuracy(train_lda_classification, Z_reduced_poly, y , K_classes, K_cv=10, runs=1)"
   ]
  },
  {
   "cell_type": "code",
   "execution_count": 18,
   "metadata": {},
   "outputs": [],
   "source": [
    "###########\n",
    "### QDA ###\n",
    "###########\n",
    "\n",
    "def get_per_class_covariance_matrix(X, y, K_classes, centroids):\n",
    "    X_diff = X - np.array([centroids[k] for k in y])\n",
    "    class_cov = []\n",
    "    \n",
    "    for k in range(K_classes):\n",
    "        class_cov.append(np.sum(np.array([np.outer(Help, Help) for Help in X_diff[y == k]]), axis=0)/(sum(y==k)-1))\n",
    "        \n",
    "    return class_cov\n",
    "\n",
    "# Obtain delta\n",
    "def train_qda_classification(X, y, K_classes):\n",
    "\n",
    "    probs = get_prior_probs(y)\n",
    "    centroids = get_centroids(X, y, K_classes)\n",
    "    class_cov = get_per_class_covariance_matrix(X, y, K_classes, centroids)\n",
    "    inv_cov = np.linalg.inv(class_cov)\n",
    "    def G(X_new):\n",
    "        \n",
    "        deltas = np.zeros((X_new.shape[0], K_classes))\n",
    "        for k in range(K_classes):\n",
    "            deltas[:,k] = np.diagonal(-((X_new - centroids[k]) @ inv_cov[k] @ (X_new - centroids[k]).T)/2 + np.log(probs[k]) - 1/2 * np.log(np.linalg.det(class_cov[k])))\n",
    "        return np.argmax(deltas, axis=1)\n",
    "    return G\n",
    "\n",
    "accuracy(train_qda_classification, X, y , K_classes, K_cv=8, runs=3)"
   ]
  },
  {
   "cell_type": "code",
   "execution_count": 19,
   "metadata": {},
   "outputs": [
    {
     "data": {
      "text/plain": [
       "(0.922979797979798, 0.006112308741990999)"
      ]
     },
     "execution_count": 19,
     "metadata": {},
     "output_type": "execute_result"
    }
   ],
   "source": [
    "accuracy(train_qda_classification, X, y , K_classes, K_cv=8, runs=3)"
   ]
  },
  {
   "cell_type": "code",
   "execution_count": 9,
   "metadata": {},
   "outputs": [
    {
     "name": "stdout",
     "output_type": "stream",
     "text": [
      "The accuracy is:  0.09134199134199135\n"
     ]
    }
   ],
   "source": [
    "######################################################\n",
    "#    !!!DO NOT CHANGE THE CODE IN THIS CELL!!!       #\n",
    "# THIS CELL IS USED FOR EVALUATING YOUR BEST MODEL.  #  \n",
    "# AFTER TRAINING AND CREATING YOUR BEST MODEL IN THE #\n",
    "# PREVIOUS CELL, THIS CELL SHOULD RUN WITHOUT ERRORS # \n",
    "######################################################\n",
    "\n",
    "# Determining which test data will be used. If real test \n",
    "# data is available, it will be used. Otherwise, the \n",
    "# fake test data will be used.\n",
    "if os.path.exists(\"DSM_assignment6_test_data.csv\"):\n",
    "    test_data_filename = \"DSM_assignment6_test_data.csv\"\n",
    "elif os.path.exists(\"DSM_assignment6_FAKE_test_data.csv\"):\n",
    "    test_data_filename = \"DSM_assignment6_FAKE_test_data.csv\"\n",
    "else:\n",
    "    test_data_filename = None\n",
    "    print(\"ERROR: Test data is missing!\")\n",
    "    \n",
    "if test_data_filename:\n",
    "\n",
    "    # loading the test data    \n",
    "    test_data = np.genfromtxt(test_data_filename, delimiter=',')\n",
    "    X_test = test_data[:,:-1]\n",
    "    y_test = test_data[:,-1].astype(int)\n",
    "\n",
    "    # making predictions and computing the accuracy (by averaging over 20 runs to reduce randomness)\n",
    "    accuracies= np.array([])\n",
    "    for i in range(20):\n",
    "        predictions = best_model(X_test)\n",
    "        accuracy = np.mean(predictions == y_test)\n",
    "        accuracies = np.append(accuracies, accuracy)\n",
    "\n",
    "    print(\"The accuracy is: \", np.mean(accuracies))"
   ]
  },
  {
   "cell_type": "markdown",
   "metadata": {},
   "source": [
    "# Part 2: analysis"
   ]
  },
  {
   "cell_type": "code",
   "execution_count": null,
   "metadata": {},
   "outputs": [],
   "source": []
  },
  {
   "cell_type": "code",
   "execution_count": null,
   "metadata": {},
   "outputs": [],
   "source": []
  }
 ],
 "metadata": {
  "kernelspec": {
   "display_name": "Python 3",
   "language": "python",
   "name": "python3"
  },
  "language_info": {
   "codemirror_mode": {
    "name": "ipython",
    "version": 3
   },
   "file_extension": ".py",
   "mimetype": "text/x-python",
   "name": "python",
   "nbconvert_exporter": "python",
   "pygments_lexer": "ipython3",
   "version": "3.8.3"
  }
 },
 "nbformat": 4,
 "nbformat_minor": 2
}
