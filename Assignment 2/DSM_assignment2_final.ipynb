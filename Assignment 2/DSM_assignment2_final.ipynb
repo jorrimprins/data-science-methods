{
 "cells": [
  {
   "cell_type": "markdown",
   "metadata": {},
   "source": [
    "# Assignment 2\n",
    "\n",
    "**Deadline**:  18/09/2019, 9.59am\n",
    "\n",
    "**Names and student numbers:**\n",
    "1. Vien Dinh (11002115)\n",
    "2. Dante van der Heijden (11020075)\n",
    "3. Jorrim Prins (11038934)\n",
    "\n",
    "**Declaration of Originality**\n",
    "\n",
    "We whose names are given under 1., 2. and 3. above declare that:\n",
    "1. These solutions are solely our own work.\n",
    "2. We have not made (part of) these solutions available to any other student.\n",
    "\n",
    "## Instructions for completing and submitting the assignment\n",
    "Please pay attention to the following instructions:\n",
    "1. Please follow carefully the steps outlined in the assignment. If you cannot solve an exercise and this hinders continuing with subsequent exercises, try to find a way to work around it and give a clear explanation for the solution you have chosen.\n",
    "2. Submit your work in the form of a Jupyter notebook via Canvas, before the deadline. Your notebook should not give errors when executed with `Run All`.\n",
    "4. You are allowed to work on the assignment in groups of 2 or 3 students and to submit together. Before you submit, you and your team members have to register as an **Assignment group** on Canvas. Only a single member of each group has to submit the notebook. Please do **NOT** submit the same notebook multiple times!\n",
    "5. Please write your names also inside this markdown cell, under **Names and student numbers**."
   ]
  },
  {
   "cell_type": "markdown",
   "metadata": {},
   "source": [
    "## Analysis, visualisation and usage of Twitter sentiment data\n",
    "This part of the assignment deals with the analysis, visualisation and usage of Twitter sentiment data for six airline companies:\n",
    "\n",
    "|**Name Airline**|**@username**|\n",
    "|:-------|:-------------|\n",
    "|American Airlines       |@AmericanAir           |\n",
    "|JetBlue Airways        |@JetBlue              |\n",
    "|Southwest Airlines       |@SouthwestAir           |\n",
    "|United Airlines        |@united              |\n",
    "|US Airways        |@USAirways              |\n",
    "|Virgin America       |@VirginAmerica             |\n",
    "\n",
    "The dataset `airline_twitter_sentiment_clean.csv` consists of more than 14.000 tweets sent on 9 consecutive days in February 2015, all addressing one (or more) of the aforementioned airlines via the @username syntax. The text of the tweets can be found in the `text` column of the dataset. Furthermore, a machine learning algorithm has analyzed the content of the tweets and categorized the sentiment as positive, neutral or negative. This can be found in the `airline_sentiment` column. The machine learning algorithm also estimates the probability that it identified the correct sentiment, which is given in the `airline_sentiment:confidence` column. Another relevant column is called `tweet_created`, giving the time and day at which the tweet was sent.\n",
    "\n",
    "Our goal is to create for each airline a table with the number of positive, neutral and negative tweets for each hour during the 9 days for which we have data, and to extract some basic insights from the results.\n",
    "\n",
    "(Note: US Airways was integrated into American Airlines in October 2015. Since our dataset is from February 2015, we will consider them as separate airlines.)"
   ]
  },
  {
   "cell_type": "markdown",
   "metadata": {},
   "source": [
    "**Exercise 1:** import the relevant libraries."
   ]
  },
  {
   "cell_type": "code",
   "execution_count": 39,
   "metadata": {
    "pycharm": {
     "is_executing": false
    },
    "scrolled": true
   },
   "outputs": [],
   "source": [
    "import numpy as np\n",
    "import pandas as pd\n",
    "import matplotlib.pyplot as plt\n",
    "import scipy.stats as stats\n",
    "import re"
   ]
  },
  {
   "cell_type": "markdown",
   "metadata": {},
   "source": [
    "**Exercise 2:** import the dataset `airline_twitter_sentiment_clean.csv` and turn it into a DataFrame called `df`. This dataset was created on the basis of the dataset of assignment 1, from which duplicates were removed, as well as rows with missing `airline_sentiment`. Notice that rows with an `airline_sentiment:confidence` below 0.50 were **not** removed, as opposed to what you had to do in assignment 1. Print the total number of tweets in the dataset."
   ]
  },
  {
   "cell_type": "code",
   "execution_count": 40,
   "metadata": {
    "pycharm": {
     "is_executing": false
    }
   },
   "outputs": [
    {
     "data": {
      "text/plain": [
       "14604"
      ]
     },
     "execution_count": 40,
     "metadata": {},
     "output_type": "execute_result"
    }
   ],
   "source": [
    "df = pd.read_csv('airline_twitter_sentiment_clean.csv')\n",
    "len(df)"
   ]
  },
  {
   "cell_type": "markdown",
   "metadata": {},
   "source": [
    "**Exercise 3:** the column `airline_sentiment:confidence` represents the probability that the `airline_sentiment` (positive, neutral or negative) was correctly extracted from the text of the tweet. As in assignment 1, we would like to remove the rows with a probability that is too low. But what is \"too low\"? \n",
    "\n",
    "Answer this exercise in three steps, using the three cells below:\n",
    "* in the first cell, analyze the distribution of probabilities in the column `airline_sentiment:confidence`. How you do this, is up to you. The goal is to present as clearly as possible how the probabilities are distributed. Your answer must contain (at least) one visualization of data.\n",
    "* the second cell is a markdown cell, where you have to give an answer in plain text. Propose a criterium for removing data with low probabilities. Which criterium you decide to choose, is up to your judgement. Also, explain why you have chosen your criterium. The explanation should be rational and data-driven.\n",
    "* in the third cell, remove the lines from `df` with an airline-sentiment confidence that is too low according to your criterium. Report the number of discarded tweets."
   ]
  },
  {
   "cell_type": "code",
   "execution_count": 41,
   "metadata": {
    "pycharm": {
     "is_executing": false
    }
   },
   "outputs": [
    {
     "name": "stdout",
     "output_type": "stream",
     "text": [
      "The mean of the confidence is 0.9002124349493263 with a minimum of 0.335 and a maximum of 1.0\n",
      "The standard error of the confidence is 0.16279894778311313\n",
      "The 5 most occuring confidence values are \n",
      " 1.0000    10421\n",
      "0.6667       71\n",
      "0.6632       34\n",
      "0.6559       30\n",
      "0.6596       30\n",
      "Name: airline_sentiment:confidence, dtype: int64\n"
     ]
    },
    {
     "data": {
      "text/plain": [
       "Text(0.5,1,'Distribution of confidence values')"
      ]
     },
     "execution_count": 41,
     "metadata": {},
     "output_type": "execute_result"
    },
    {
     "data": {
      "image/png": "[encoded data removed]",
      "text/plain": [
       "<Figure size 432x288 with 1 Axes>"
      ]
     },
     "metadata": {},
     "output_type": "display_data"
    }
   ],
   "source": [
    "asc = df['airline_sentiment:confidence']\n",
    "print('The mean of the confidence is',np.mean(asc), 'with a minimum of',np.min(asc), 'and a maximum of', np.max(asc))\n",
    "print('The standard error of the confidence is', np.sqrt(np.cov(asc)))\n",
    "print('The 5 most occuring confidence values are \\n', asc.value_counts().head())\n",
    "\n",
    "fig1 = plt.figure()\n",
    "ax1= fig1.add_subplot(1,1,1)\n",
    "\n",
    "ax1.hist(asc,bins=20)\n",
    "ax1.set_title(\"Distribution of confidence values\")\n",
    "\n"
   ]
  },
  {
   "cell_type": "markdown",
   "metadata": {},
   "source": [
    "#### ANSWER IN PLAIN TEXT: ####\n"
   ]
  },
  {
   "cell_type": "markdown",
   "metadata": {},
   "source": [
    "As we can obviously see in the histogram, almost all of the confidence values are exactly equal to 1.0000. There is a small peak of values between 0.6 and 0.75 but these values are statistically irrelevant as they only make up (14604 - 10421 = 4183) 29% of the set. It is also logical to drop these lower values because a 70% certainty of the correct label on a tweet is not very believable."
   ]
  },
  {
   "cell_type": "code",
   "execution_count": 42,
   "metadata": {
    "pycharm": {
     "is_executing": false
    }
   },
   "outputs": [
    {
     "name": "stdout",
     "output_type": "stream",
     "text": [
      "4183 tweets were deleted\n"
     ]
    }
   ],
   "source": [
    "tweetcount = len(df)\n",
    "df = df[df['airline_sentiment:confidence'] == 1]\n",
    "tweetcount_new = len(df)\n",
    "df.reset_index()\n",
    "print(tweetcount - tweetcount_new, 'tweets were deleted')"
   ]
  },
  {
   "cell_type": "markdown",
   "metadata": {},
   "source": [
    "**Exercise 4:** add a new column called `tweet_length` to the DataFrame `df`. This column should contain the normalized length of the text of the tweet. \"Normalized\" should be understood as follows: the mean of all values in the `tweet_length` column must be zero, and the standard deviation must be one."
   ]
  },
  {
   "cell_type": "code",
   "execution_count": 43,
   "metadata": {
    "pycharm": {
     "is_executing": false
    }
   },
   "outputs": [],
   "source": [
    "mean_tl = df['text'].str.len().mean()\n",
    "var_tl = df['text'].str.len().var()\n",
    "\n",
    "df['tweet_length'] = (df['text'].str.len() - mean_tl)/np.sqrt(var_tl)"
   ]
  },
  {
   "cell_type": "markdown",
   "metadata": {},
   "source": [
    "**Example:** the `pandas.Series.apply()` function can be used to apply a function to the individual values of a Series. The function that acts on the individual values should be given in the argument of `apply()`. The function `apply()` returns a Series of the same length as the original Series.\n",
    "\n",
    "As an example, in the cell below we have defined a function called `transform_airline_sentiment` and used `apply()` to let it act on the values of the `airline_sentiment` column of `df`. The function `transform_airline_sentiment` transforms `negative` into `-1`, `neutral` into `0` and `positive` into `1`. We printed the first 10 elements of the Series that is returned by `apply()`."
   ]
  },
  {
   "cell_type": "code",
   "execution_count": 44,
   "metadata": {},
   "outputs": [
    {
     "data": {
      "text/plain": [
       "0    -1\n",
       "1    -1\n",
       "2     0\n",
       "3    -1\n",
       "4    -1\n",
       "5     0\n",
       "6     1\n",
       "7     0\n",
       "9    -1\n",
       "11   -1\n",
       "Name: airline_sentiment, dtype: int64"
      ]
     },
     "execution_count": 44,
     "metadata": {},
     "output_type": "execute_result"
    }
   ],
   "source": [
    "def transform_airline_sentiment(x):\n",
    "    \n",
    "    if x == 'negative':\n",
    "        return -1\n",
    "    elif x == 'neutral':\n",
    "        return 0\n",
    "    else:\n",
    "        return 1\n",
    "    \n",
    "df['airline_sentiment'].apply(transform_airline_sentiment).head(10)"
   ]
  },
  {
   "cell_type": "markdown",
   "metadata": {},
   "source": [
    "**Exercise 5:** the `tweet_coord` column of `df` gives (for some tweets) the latitude and longitude of the position where the tweet was created. However, the data is stored as a string, making it hard to do geographical analysis. Add two new columns to `df`, called `latitude` and `longitude`, respectively giving the latitude and longitude of the position where the tweet was created. The values in the new columns should be of float type. Missing `tweet_coord` values can be neglected, i.e. they can remain NaN in the two new columns as well.\n",
    "\n",
    "Hints:\n",
    "* you may want to use the `apply()` function of the previous example. \n",
    "* in that case, one option would be to write a function that extracts the latitude from the individual values in `tweet_coord`, and another function that extracts the longitude from the individual values in `tweet_coord`.\n",
    "* regular expressions can be used for extracting the latitude and longitude from the individual values in `tweet_coord`."
   ]
  },
  {
   "cell_type": "code",
   "execution_count": 45,
   "metadata": {
    "pycharm": {
     "is_executing": false
    }
   },
   "outputs": [],
   "source": [
    "def splitter_lat(string):\n",
    "    if string is not np.nan:\n",
    "        string = str(string)\n",
    "        lat = string.split(',')[0].split('[')[1]\n",
    "        return lat\n",
    "    else:\n",
    "        return np.nan\n",
    "\n",
    "def splitter_long(string):\n",
    "    if string is not np.nan:\n",
    "        string = str(string)\n",
    "        long = string.split(',')[1].split(']')[0]\n",
    "        return long\n",
    "    else:\n",
    "        return np.nan\n",
    "\n",
    "df['latitude'] = df['tweet_coord'].apply(splitter_lat)\n",
    "df['longitude'] = df['tweet_coord'].apply(splitter_long)"
   ]
  },
  {
   "cell_type": "markdown",
   "metadata": {},
   "source": [
    "**Exercise 6:** crucially, what is still missing in the data is a column with the airline company that is being addressed in the tweet. This is done using Twitter's @username syntax, which is called a *mention*. For example, if the text of a tweet contains the (sub)string `@AmericanAir`, we may assume the tweet is addressed to American Airlines. We have to extract this information from the text of the tweet. This can be done using regular expressions, for instance. However, we have to be careful, as some tweets contain multiple mentions.\n",
    "\n",
    "This exercise contains three parts, corresponding to the three cells below:\n",
    "* in the first cell, create a new column called `mentions` in the `df`. The values of this column must be **lists** containing **all** the @username occurences (string type) in the text of a tweet. You can use regular expressions for extracting the @username occurences.\n",
    "* the second cell is a markdown cell, where you have to give an answer in plain text. In this cell, please explain carefully your approach for extracting the mentions from the tweet and the choices you have made. In particular, explain how you managed to extract **all** @username occurrences.\n",
    "* in the third cell, print the total number of mentions you have extracted from all tweets together, as well as the average number of mentions per tweet. Furthermore, draw a random sample of 15 entries of the `mentions` column and print the sample (as a Series)."
   ]
  },
  {
   "cell_type": "code",
   "execution_count": 46,
   "metadata": {
    "pycharm": {
     "is_executing": false
    }
   },
   "outputs": [],
   "source": [
    "def finder(str):\n",
    "    pattern = '\\B@[A-Za-z0-9_]{1,15}'\n",
    "    return re.findall(pattern, str)\n",
    "df['mentions'] = df['text'].apply(finder)"
   ]
  },
  {
   "cell_type": "markdown",
   "metadata": {},
   "source": [
    "#### ANSWER IN PLAIN TEXT: ####\n"
   ]
  },
  {
   "cell_type": "code",
   "execution_count": 47,
   "metadata": {},
   "outputs": [
    {
     "data": {
      "text/plain": [
       "0                                     [@VirginAmerica]\n",
       "1                                            [@united]\n",
       "2                                            [@united]\n",
       "3                                      [@SouthwestAir]\n",
       "4                                         [@USAirways]\n",
       "5                                            [@united]\n",
       "6                                           [@JetBlue]\n",
       "7                                      [@SouthwestAir]\n",
       "9                                      [@SouthwestAir]\n",
       "11                                      [@AmericanAir]\n",
       "12                                           [@united]\n",
       "13                                      [@AmericanAir]\n",
       "14                                           [@united]\n",
       "15                                      [@AmericanAir]\n",
       "16       [@united, @FtLauderdaleSun, @orlandosentinel]\n",
       "17                                        [@USAirways]\n",
       "18                                      [@AmericanAir]\n",
       "19                                           [@united]\n",
       "20                                        [@USAirways]\n",
       "21                                           [@united]\n",
       "22                                  [@JenniferDawnPro]\n",
       "23                                          [@JetBlue]\n",
       "24                                        [@USAirways]\n",
       "26                                          [@JetBlue]\n",
       "27                                     [@SouthwestAir]\n",
       "28                                      [@AmericanAir]\n",
       "29                                      [@AmericanAir]\n",
       "32                                        [@USAirways]\n",
       "34                                      [@AmericanAir]\n",
       "35                                           [@united]\n",
       "                             ...                      \n",
       "14566                                        [@united]\n",
       "14567                                        [@united]\n",
       "14568                                     [@USAirways]\n",
       "14570                                        [@united]\n",
       "14571                                  [@SouthwestAir]\n",
       "14573                                   [@AmericanAir]\n",
       "14574                                       [@JetBlue]\n",
       "14575                                               []\n",
       "14576                                     [@USAirways]\n",
       "14578                                  [@SouthwestAir]\n",
       "14579                                     [@USAirways]\n",
       "14580                                        [@united]\n",
       "14581                                   [@AmericanAir]\n",
       "14582                                        [@united]\n",
       "14583                                       [@JetBlue]\n",
       "14584                                     [@USAirways]\n",
       "14585                                       [@JetBlue]\n",
       "14586                                        [@united]\n",
       "14587                                   [@AmericanAir]\n",
       "14588                                     [@Usairways]\n",
       "14589                                   [@AmericanAir]\n",
       "14590                                       [@JetBlue]\n",
       "14591                                       [@JetBlue]\n",
       "14594                                  [@SouthwestAir]\n",
       "14595                                   [@AmericanAir]\n",
       "14596                                        [@united]\n",
       "14597                                        [@united]\n",
       "14601                                     [@USAirways]\n",
       "14602                                   [@AmericanAir]\n",
       "14603                                       [@JetBlue]\n",
       "Name: mentions, Length: 10421, dtype: object"
      ]
     },
     "execution_count": 47,
     "metadata": {},
     "output_type": "execute_result"
    }
   ],
   "source": [
    "df.mentions"
   ]
  },
  {
   "cell_type": "markdown",
   "metadata": {},
   "source": [
    "The pattern we use to match the usernames is as follows:  First matches a no-word boundry to make sure that e-mailaddresses are skipped, and then makes sure that this starts with an @ : ```\\B@```. \\\n",
    "Then, use any character from A to Z (upercase), a to z (lowercase) 0 to 9 and _ (since that is allowed by twitter's username policy): ```[A-Za-z0-9_]```.  \\\n",
    "Thereafter, we specify that usernames may not be longer than 15 characters, and not shorter than 1 character (which is also in Twitter's username policy): ```{1,15}```."
   ]
  },
  {
   "cell_type": "code",
   "execution_count": 48,
   "metadata": {},
   "outputs": [
    {
     "name": "stdout",
     "output_type": "stream",
     "text": [
      "The total number of mentions is: 11600\n",
      "The average number of mentions per tweet is: 1.1131369350350255\n"
     ]
    },
    {
     "data": {
      "text/plain": [
       "11560                    [@USAirways, @MrRenevendez]\n",
       "6465                                 [@SouthwestAir]\n",
       "8802                                      [@JetBlue]\n",
       "13421                [@AmericanAir, @barrettkarabis]\n",
       "10623                                 [@AmericanAir]\n",
       "916                       [@AmericanAir, @cyncyn661]\n",
       "11494                                      [@united]\n",
       "3300     [@americanair, @dfwairport, @Cowboycerrone]\n",
       "2137                                  [@AmericanAir]\n",
       "7443                                  [@AmericanAir]\n",
       "8299                                  [@AmericanAir]\n",
       "13053                                [@SouthwestAir]\n",
       "14099                     [@united, @delta, @united]\n",
       "8693                                       [@United]\n",
       "7817                                       [@united]\n",
       "Name: mentions, dtype: object"
      ]
     },
     "execution_count": 48,
     "metadata": {},
     "output_type": "execute_result"
    }
   ],
   "source": [
    "mention_count = sum(map(len, df.mentions))\n",
    "print('The total number of mentions is:', mention_count)\n",
    "print('The average number of mentions per tweet is:', mention_count/len(df['mentions']))\n",
    "df['mentions'].sample(n=15)"
   ]
  },
  {
   "cell_type": "markdown",
   "metadata": {},
   "source": [
    "**Exercise 7:** next, add another new column called `airline` to the `df` by initially filling the column with empty strings `''`. We want to use the mentions in the `mentions` column to identify which airline is being addressed and put the name of this airline in the newly created `airline` column. For tweets with a single mention that exactly matches (up to differences in lowercase/uppercase letters) the username of an airline, it is unambiguous and relatively simple to do this. \n",
    "\n",
    "For those tweets, replace the empty string in the `airline` column by the official username (string type) of the addressed airline company, as specified in the table at the beginning of the assignment. Furthermore, report for which percentage of tweets you have identified the airline using this approach."
   ]
  },
  {
   "cell_type": "code",
   "execution_count": 49,
   "metadata": {},
   "outputs": [],
   "source": [
    "# First create a dictionary of all airlines and usernames\n",
    "airlines = {'@americanair': 'American Airlines',\n",
    "            '@jetblue' : 'JetBlue Airways',\n",
    "           '@southwestair' : 'Southwest Airlines',\n",
    "           '@united' : 'United Airlines',\n",
    "           '@usairways' : 'US Airways',\n",
    "            '@virginamerica' : 'Virgin America'}\n",
    "# In this dictionary, we assume that the username is asked, not the @username. Initially we assumed the official\n",
    "# name of the airline was wanted, which can be easily obtained by altering the values of the dictionary\n",
    "\n",
    "# Afterwards, create a column containing empty values\n",
    "df['airline'] = ''\n",
    "\n",
    "# Then, for the first mentioned airline in a tweet, fill in the username of the airline in the designated column. \n",
    "# If no airline was detected, the entry will remain an empty string.\n",
    "# This is done by first converting the 'mentions' column to a Pandas Series, transforming the strings to\n",
    "# lowercased strings and then mapping the airlines on each cell.\n",
    "\n",
    "# First filtering for tweets that only contain one mention, and then converting\n",
    "dfs = (df['mentions'].apply(pd.Series))\n",
    "df['airline'] = dfs.where(dfs[1].isnull())[0].str.lower().map(airlines)"
   ]
  },
  {
   "cell_type": "markdown",
   "metadata": {},
   "source": [
    "**BONUS Exercise [optional, not needed for a maximum grade]:** for the other tweets, we are facing the following potential issues:\n",
    "* mentions may contain typos.\n",
    "* tweets may contain variations on the official username of the airline.\n",
    "* some tweets do not address any airline.\n",
    "* some tweets address multiple airlines.\n",
    "\n",
    "Your task is to do the following:\n",
    "* write a code that identifies for as many tweets as possible which (unique) airline is being addressed. For those tweets for which this is possible, assign the official username of the airline company to the column `airline` (as in the previous exercise). \n",
    "* create a markdown cell in which you give a detailed explanation of your approach and motivate the choices you have made.\n",
    "* compute for which percentage of all tweets you have identified a (unique) airline.\n",
    "\n",
    "Hints: \n",
    "* for this exercise you may want to use the package `fuzzywuzzy`, which can be installed using Anaconda with the command line `conda install -c conda-forge fuzzywuzzy`. In your Jupyter notebook, you only need to import fuzz: `from fuzzywuzzy import fuzz`. This module quantifies the similarity of two string expressions. For example, `fuzz.ratio('Twitter is cool','Twitter is cool') = 100`, while `fuzz.ratio('Twitter is cool','Twitter is not so cool') = 81`.\n",
    "* don't forget to explicitly check whether a tweet addresses more than a single, unique airline."
   ]
  },
  {
   "cell_type": "markdown",
   "metadata": {},
   "source": [
    "**Exercise 8:** remove all tweets from `df` for which you have not been able to identify the addressed airline."
   ]
  },
  {
   "cell_type": "code",
   "execution_count": 50,
   "metadata": {},
   "outputs": [
    {
     "name": "stdout",
     "output_type": "stream",
     "text": [
      "Number of tweets deleted: 1124\n"
     ]
    }
   ],
   "source": [
    "print('Number of tweets deleted:', len(df) - len(df.dropna(subset=['airline'])))\n",
    "df = df.dropna(subset=['airline'])"
   ]
  },
  {
   "cell_type": "markdown",
   "metadata": {},
   "source": [
    "**Exercise 9:** find the total number **and** relative frequency of positive, neutral and negative tweets, split by airline. Use a clear, attractive visualisation to present your results. The most important part of this exercise is the quality of the visualization (e.g. axes, labeling, legend, titles). (Hint: one option is to use the `groupby` method.)"
   ]
  },
  {
   "cell_type": "code",
   "execution_count": 51,
   "metadata": {},
   "outputs": [
    {
     "data": {
      "image/png": "[encoded data removed]",
      "text/plain": [
       "<Figure size 576x288 with 2 Axes>"
      ]
     },
     "metadata": {},
     "output_type": "display_data"
    }
   ],
   "source": [
    "plotdata = df[['airline', 'airline_sentiment', '_unit_id']].groupby(['airline','airline_sentiment']).count().unstack()._unit_id\n",
    "totaldata = df[['airline', 'airline_sentiment', '_unit_id']].groupby(['airline','airline_sentiment']).count().groupby('airline').sum()._unit_id\n",
    "relativedata = plotdata.div(totaldata, axis=0).sort_values(by = 'positive', ascending = False)\n",
    "\n",
    "# Creating the stacked bar chart\n",
    "fig1 = plt.figure(figsize=plt.figaspect(0.5))\n",
    "\n",
    "ax1 = fig1.add_subplot(1,2,1)\n",
    "ax2 = fig1.add_subplot(1,2,2)\n",
    "\n",
    "plotdata.plot.bar(ax=ax1)\n",
    "relativedata.plot.bar(stacked=True, ax=ax2)\n",
    "\n",
    "ax1.set_title('Frequency per sentiment')\n",
    "ax1.set_xlabel('Airline')\n",
    "ax1.set_ylabel('Frequency')\n",
    "ax1.legend(shadow=True, title=\"Levels\");\n",
    "\n",
    "ax2.set_title('Relative Frequency per sentiment')\n",
    "ax2.set_xlabel('Airline')\n",
    "ax2.set_ylabel('Relative Frequency')\n",
    "ax2.legend(shadow=True, title=\"Levels\");"
   ]
  }
 ],
 "metadata": {
  "kernelspec": {
   "display_name": "Python 3",
   "language": "python",
   "name": "python3"
  },
  "language_info": {
   "codemirror_mode": {
    "name": "ipython",
    "version": 3
   },
   "file_extension": ".py",
   "mimetype": "text/x-python",
   "name": "python",
   "nbconvert_exporter": "python",
   "pygments_lexer": "ipython3",
   "version": "3.8.3"
  },
  "pycharm": {
   "stem_cell": {
    "cell_type": "raw",
    "metadata": {
     "collapsed": false
    },
    "source": []
   }
  }
 },
 "nbformat": 4,
 "nbformat_minor": 2
}
